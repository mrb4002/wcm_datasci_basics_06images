{
 "cells": [
  {
   "cell_type": "markdown",
   "metadata": {},
   "source": [
    "## Assignment 6 - Unit Test Your Functions!\n",
    "\n",
    "Follow the instructions in the following notebook cell. You will be graded on:\n",
    "\n",
    "    - Whether your unit tests are passing\n",
    "    - The completion of this notebook"
   ]
  },
  {
   "cell_type": "markdown",
   "metadata": {},
   "source": [
    "## Part 1:"
   ]
  },
  {
   "cell_type": "code",
   "execution_count": 1,
   "metadata": {},
   "outputs": [],
   "source": [
    "# import the stuff you need here: os, glob, natsort, numpy, matplotlib.pyplot, pandas:\n",
    "\n",
    "# example import, don't edit this.\n",
    "import sys\n",
    "sys.path.append('../')   # appending your project to python path\n",
    "\n",
    "# import the rest:\n",
    "import os\n",
    "from glob import glob\n",
    "import natsort\n",
    "import numpy as np\n",
    "import matplotlib.pyplot as plt\n",
    "import pandas as pd"
   ]
  },
  {
   "cell_type": "markdown",
   "metadata": {},
   "source": [
    "#### Data I/O:\n",
    "\n",
    "First, in the `utils.py` file from the `functions` folder, recreate the function to get all the `.csv` data files:\n",
    "\n",
    "```python\n",
    "def get_files(path_pattern):\n",
    "    Given a `path_pattern` describing the path to all your data files, sorts the matching data files in alphanumerical order and returns a list with all file paths.\n",
    "\n",
    "    Input: \n",
    "        path_pattern (list): Path to all data files as described by a wildcard (*)\n",
    "    Returns:\n",
    "        files (list): Alphanumerical sorted list of all data files matching your path_pattern description.\n",
    "```\n",
    "\n",
    "Import it using relative imports and use it in the following cells to load your data. Remember `.`"
   ]
  },
  {
   "cell_type": "code",
   "execution_count": 8,
   "metadata": {},
   "outputs": [
    {
     "name": "stdout",
     "output_type": "stream",
     "text": [
      "There are 56 data csv files in the data folder\n",
      "['./data/_5_1_cyan.csv', './data/_5_2_cyan.csv', './data/_5_3_cyan.csv', './data/_5_4_cyan.csv', './data/_5_5_cyan.csv', './data/_5_6_cyan.csv', './data/_6_1_cyan.csv', './data/_6_2_cyan.csv', './data/_7_1_cyan.csv', './data/_7_2_cyan.csv', './data/_8_1_cyan.csv', './data/_8_2_cyan.csv', './data/_8_3_cyan.csv', './data/_8_4_cyan.csv', './data/_8_5_cyan.csv', './data/_8_6_cyan.csv', './data/_9_1_cyan.csv', './data/_9_2_cyan.csv', './data/_9_3_cyan.csv', './data/_9_4_cyan.csv', './data/_9_5_cyan.csv', './data/_9_6_cyan.csv', './data/_9_7_cyan.csv', './data/_9_8_cyan.csv', './data/_9_9_cyan.csv', './data/_9_10_cyan.csv', './data/_13_1_cyan.csv', './data/_13_2_cyan.csv', './data/_16_1_cyan.csv', './data/_16_2_cyan.csv', './data/_18_1_cyan.csv', './data/_18_2_cyan.csv', './data/_20_1_cyan.csv', './data/_20_2_cyan.csv', './data/_20_3_cyan.csv', './data/_20_4_cyan.csv', './data/_35_1_cyan.csv', './data/_35_2_cyan.csv', './data/_55_1_cyan.csv', './data/_55_2_cyan.csv', './data/_55_3_cyan.csv', './data/_55_4_cyan.csv', './data/_65_1_cyan.csv', './data/_65_2_cyan.csv', './data/_67_1_cyan.csv', './data/_67_2_cyan.csv', './data/_72_1_cyan.csv', './data/_72_2_cyan.csv', './data/_84_1_cyan.csv', './data/_84_2_cyan.csv', './data/_105_1_cyan.csv', './data/_105_2_cyan.csv', './data/_110_1_cyan.csv', './data/_110_2_cyan.csv', './data/_120_1_cyan.csv', './data/_120_2_cyan.csv']\n"
     ]
    }
   ],
   "source": [
    "# first import your utility function:\n",
    "from functions.utils import get_files\n",
    "\n",
    "# Provide the wildcard (*) string pattern for your data files:\n",
    "data_pattern = \"./data/*.csv\"\n",
    "\n",
    "# Use your utilities function to read and return a list of sorted data files: \n",
    "data_files = get_files(data_pattern)\n",
    "print('There are {} data csv files in the data folder'.format(len(data_files)))\n",
    "print(data_files)\n"
   ]
  },
  {
   "cell_type": "markdown",
   "metadata": {},
   "source": [
    "### Create DataFrame:\n",
    "\n",
    "Use `pandas` to load your `.csv` file data and turn them into a `dataframe`, then display the first 5 entries of your `dataframe`:"
   ]
  },
  {
   "cell_type": "code",
   "execution_count": 31,
   "metadata": {},
   "outputs": [
    {
     "data": {
      "text/html": [
       "<div>\n",
       "<style scoped>\n",
       "    .dataframe tbody tr th:only-of-type {\n",
       "        vertical-align: middle;\n",
       "    }\n",
       "\n",
       "    .dataframe tbody tr th {\n",
       "        vertical-align: top;\n",
       "    }\n",
       "\n",
       "    .dataframe thead th {\n",
       "        text-align: right;\n",
       "    }\n",
       "</style>\n",
       "<table border=\"1\" class=\"dataframe\">\n",
       "  <thead>\n",
       "    <tr style=\"text-align: right;\">\n",
       "      <th></th>\n",
       "      <th>1</th>\n",
       "      <th>2</th>\n",
       "      <th>3</th>\n",
       "      <th>4</th>\n",
       "      <th>5</th>\n",
       "      <th>6</th>\n",
       "      <th>7</th>\n",
       "      <th>8</th>\n",
       "      <th>9</th>\n",
       "      <th>10</th>\n",
       "      <th>...</th>\n",
       "      <th>47</th>\n",
       "      <th>48</th>\n",
       "      <th>49</th>\n",
       "      <th>50</th>\n",
       "      <th>51</th>\n",
       "      <th>52</th>\n",
       "      <th>53</th>\n",
       "      <th>54</th>\n",
       "      <th>55</th>\n",
       "      <th>56</th>\n",
       "    </tr>\n",
       "  </thead>\n",
       "  <tbody>\n",
       "    <tr>\n",
       "      <th>0</th>\n",
       "      <td>305.119</td>\n",
       "      <td>299.585</td>\n",
       "      <td>284.134</td>\n",
       "      <td>274.030</td>\n",
       "      <td>259.498</td>\n",
       "      <td>258.587</td>\n",
       "      <td>261.424</td>\n",
       "      <td>274.786</td>\n",
       "      <td>271.133</td>\n",
       "      <td>259.844</td>\n",
       "      <td>...</td>\n",
       "      <td>274.816</td>\n",
       "      <td>266.868</td>\n",
       "      <td>258.534</td>\n",
       "      <td>252.913</td>\n",
       "      <td>262.916</td>\n",
       "      <td>255.959</td>\n",
       "      <td>272.325</td>\n",
       "      <td>247.210</td>\n",
       "      <td>291.965</td>\n",
       "      <td>260.800</td>\n",
       "    </tr>\n",
       "    <tr>\n",
       "      <th>1</th>\n",
       "      <td>311.217</td>\n",
       "      <td>303.344</td>\n",
       "      <td>285.376</td>\n",
       "      <td>279.933</td>\n",
       "      <td>259.565</td>\n",
       "      <td>258.002</td>\n",
       "      <td>261.486</td>\n",
       "      <td>272.011</td>\n",
       "      <td>278.229</td>\n",
       "      <td>257.284</td>\n",
       "      <td>...</td>\n",
       "      <td>275.208</td>\n",
       "      <td>267.729</td>\n",
       "      <td>257.029</td>\n",
       "      <td>250.244</td>\n",
       "      <td>261.190</td>\n",
       "      <td>260.099</td>\n",
       "      <td>282.765</td>\n",
       "      <td>248.638</td>\n",
       "      <td>296.283</td>\n",
       "      <td>262.489</td>\n",
       "    </tr>\n",
       "    <tr>\n",
       "      <th>2</th>\n",
       "      <td>326.685</td>\n",
       "      <td>306.195</td>\n",
       "      <td>289.555</td>\n",
       "      <td>279.445</td>\n",
       "      <td>257.737</td>\n",
       "      <td>261.400</td>\n",
       "      <td>259.558</td>\n",
       "      <td>275.921</td>\n",
       "      <td>278.489</td>\n",
       "      <td>262.490</td>\n",
       "      <td>...</td>\n",
       "      <td>278.905</td>\n",
       "      <td>269.762</td>\n",
       "      <td>256.576</td>\n",
       "      <td>252.016</td>\n",
       "      <td>260.797</td>\n",
       "      <td>264.321</td>\n",
       "      <td>288.183</td>\n",
       "      <td>249.163</td>\n",
       "      <td>298.079</td>\n",
       "      <td>263.869</td>\n",
       "    </tr>\n",
       "    <tr>\n",
       "      <th>3</th>\n",
       "      <td>334.542</td>\n",
       "      <td>315.992</td>\n",
       "      <td>291.688</td>\n",
       "      <td>285.562</td>\n",
       "      <td>265.585</td>\n",
       "      <td>271.941</td>\n",
       "      <td>257.475</td>\n",
       "      <td>273.572</td>\n",
       "      <td>277.763</td>\n",
       "      <td>263.175</td>\n",
       "      <td>...</td>\n",
       "      <td>286.011</td>\n",
       "      <td>274.107</td>\n",
       "      <td>255.490</td>\n",
       "      <td>255.307</td>\n",
       "      <td>259.653</td>\n",
       "      <td>269.742</td>\n",
       "      <td>287.018</td>\n",
       "      <td>253.169</td>\n",
       "      <td>300.793</td>\n",
       "      <td>266.294</td>\n",
       "    </tr>\n",
       "    <tr>\n",
       "      <th>4</th>\n",
       "      <td>336.459</td>\n",
       "      <td>328.338</td>\n",
       "      <td>294.633</td>\n",
       "      <td>292.300</td>\n",
       "      <td>268.526</td>\n",
       "      <td>274.761</td>\n",
       "      <td>259.245</td>\n",
       "      <td>278.288</td>\n",
       "      <td>284.147</td>\n",
       "      <td>259.553</td>\n",
       "      <td>...</td>\n",
       "      <td>290.311</td>\n",
       "      <td>284.979</td>\n",
       "      <td>257.433</td>\n",
       "      <td>252.361</td>\n",
       "      <td>262.665</td>\n",
       "      <td>275.553</td>\n",
       "      <td>282.375</td>\n",
       "      <td>255.589</td>\n",
       "      <td>303.503</td>\n",
       "      <td>268.537</td>\n",
       "    </tr>\n",
       "  </tbody>\n",
       "</table>\n",
       "<p>5 rows × 56 columns</p>\n",
       "</div>"
      ],
      "text/plain": [
       "        1        2        3        4        5        6        7        8   \\\n",
       "0  305.119  299.585  284.134  274.030  259.498  258.587  261.424  274.786   \n",
       "1  311.217  303.344  285.376  279.933  259.565  258.002  261.486  272.011   \n",
       "2  326.685  306.195  289.555  279.445  257.737  261.400  259.558  275.921   \n",
       "3  334.542  315.992  291.688  285.562  265.585  271.941  257.475  273.572   \n",
       "4  336.459  328.338  294.633  292.300  268.526  274.761  259.245  278.288   \n",
       "\n",
       "        9        10  ...       47       48       49       50       51  \\\n",
       "0  271.133  259.844  ...  274.816  266.868  258.534  252.913  262.916   \n",
       "1  278.229  257.284  ...  275.208  267.729  257.029  250.244  261.190   \n",
       "2  278.489  262.490  ...  278.905  269.762  256.576  252.016  260.797   \n",
       "3  277.763  263.175  ...  286.011  274.107  255.490  255.307  259.653   \n",
       "4  284.147  259.553  ...  290.311  284.979  257.433  252.361  262.665   \n",
       "\n",
       "        52       53       54       55       56  \n",
       "0  255.959  272.325  247.210  291.965  260.800  \n",
       "1  260.099  282.765  248.638  296.283  262.489  \n",
       "2  264.321  288.183  249.163  298.079  263.869  \n",
       "3  269.742  287.018  253.169  300.793  266.294  \n",
       "4  275.553  282.375  255.589  303.503  268.537  \n",
       "\n",
       "[5 rows x 56 columns]"
      ]
     },
     "execution_count": 31,
     "metadata": {},
     "output_type": "execute_result"
    }
   ],
   "source": [
    "# read in your csv files, concatenate all the csv's one by one into columns, and replace empty entries with 0's\n",
    "df = pd.concat([pd.read_csv(file, usecols=['Value']) for file in data_files], axis=1).fillna(value=0)\n",
    "\n",
    "\n",
    "# assign column numbers to your data frame\n",
    "df.columns = list(range(1, len(df.columns)+1))\n",
    "\n",
    "\n",
    "# Show the first 5 entries of your dataframe:\n",
    "df.head(5)\n"
   ]
  },
  {
   "cell_type": "markdown",
   "metadata": {},
   "source": [
    "### Realign our dataframes so we match the peak fluorescent signals:\n",
    "\n",
    "In `functions.utils.py`, add the following functions:\n",
    "\n",
    " - `find_middle()` - find the middle index of input data column and returns it\n",
    " - `realign_data()` - Center data around maximum or center of shortest column, padding with 0's, returns 1) a new dataframe with realigned columns and 2) the amount each column was shifted\n",
    "\n",
    "In `tests` folder, create a file named `test_utils.py` and add the following unit tests functions:\n",
    "\n",
    " - `test_find_middle_even()` - \n",
    " - `test_find_middle_odd()` - \n",
    " - `test_realign_max()` - \n",
    "\n",
    "Use your terminal to test these functions with `pytest assignment/tests`. Once all your tests are passing, import the functions and use them in the following cells:"
   ]
  },
  {
   "cell_type": "code",
   "execution_count": null,
   "metadata": {},
   "outputs": [],
   "source": [
    "# realign your data around its maximum or center, whichever one you like better: \n",
    "df_aligned, shifts = realign_data()\n",
    "\n",
    "print('My realigned data frame has shape {}'.format(df_aligned.shape))"
   ]
  },
  {
   "cell_type": "markdown",
   "metadata": {},
   "source": [
    "### Normalize signal and visualize:\n",
    "\n",
    "Now we can normalize each column between 0-1 using `scikitlearn`'s `minmaxscale` function and visualize them. <em> In your plots, properly label all axis and colorbars with appropriate name description and units:"
   ]
  },
  {
   "cell_type": "code",
   "execution_count": null,
   "metadata": {},
   "outputs": [],
   "source": [
    "# Normalize every column entry of your realigned dataframe:\n",
    "\n",
    "# pre-allocate an empty dataframe of 0's to be filled with normalized values, the index and column of this dataframe will be the same as the df_aligned dataframe:\n",
    "df_normalized = \n",
    "\n",
    "# fill in the `df_normalized` dataframe with normalized columns:\n",
    "for column, vals in df_aligned.iteritems():\n",
    "    # find the indices of the column that are not 0, only normalize those:\n",
    "    ind = df_aligned.index[df_aligned[column]!=0].tolist()\n",
    "    # Normalize of those:\n",
    "    df_normalized\n"
   ]
  },
  {
   "cell_type": "code",
   "execution_count": null,
   "metadata": {},
   "outputs": [],
   "source": [
    "# Use matplotlib to plot all the fluorescent signals:\n",
    "plt.plot()"
   ]
  },
  {
   "cell_type": "code",
   "execution_count": null,
   "metadata": {},
   "outputs": [],
   "source": [
    "# Now instead of all signals, plot the average signal:\n",
    "# use numpy to find the mean first:\n",
    "mean_signal = np.zeros(df_aligned.shape[0])\n",
    "for index, row in df_aligned.iterrows():\n",
    "    val = row[row != 0] \n",
    "    mean_signal[index] = np.mean(val)\n",
    "\n",
    "#plot\n",
    "plt.plot()"
   ]
  },
  {
   "cell_type": "code",
   "execution_count": null,
   "metadata": {},
   "outputs": [],
   "source": [
    "# Finally visualize your aligned, and normalized fluorescent data in a heatmap:\n",
    "plt."
   ]
  },
  {
   "cell_type": "markdown",
   "metadata": {},
   "source": [
    "## Part 2:\n",
    "\n",
    "Repeat the analysis, but instead of realigning the fluorescent signals to it's maximum peaks. Modify the `realign_data` function so that it requires a second input named `aligned`. In the function, if `align == \"max\"`, the code executes the max peak alignment like before.\n",
    "\n",
    "But if `align == \"center\"`, the function will find the mid point of `input_data[column ! = 0]`, the middle index of non-zero values. Then shifts the values according to the new criteria.\n",
    "\n",
    "After adding this feature to `functions.utils.realign_data`, write the appropriate test for this new feature in `tests.test_utils.py`, make sure this test is passing. Then implement the new alignment and revisualize the results, again making sure all axis and colorbars are properly labeled:"
   ]
  },
  {
   "cell_type": "code",
   "execution_count": null,
   "metadata": {},
   "outputs": [],
   "source": [
    "# apply your new realignment here\n"
   ]
  },
  {
   "cell_type": "code",
   "execution_count": null,
   "metadata": {},
   "outputs": [],
   "source": [
    "# visualize all of the newly aligned data\n"
   ]
  },
  {
   "cell_type": "code",
   "execution_count": null,
   "metadata": {},
   "outputs": [],
   "source": [
    "# visualize the mean of the newly aligned data"
   ]
  },
  {
   "cell_type": "code",
   "execution_count": null,
   "metadata": {},
   "outputs": [],
   "source": [
    "# visualize the heatmap"
   ]
  },
  {
   "cell_type": "markdown",
   "metadata": {},
   "source": [
    "Lastly, push your submission branch, the `pytests` should automatically be executed upon your push. Make sure these tests are passing! Again, add me as a collaborator, and a reviewer in your pull request that merges `submission` into `main`. "
   ]
  },
  {
   "cell_type": "code",
   "execution_count": null,
   "metadata": {},
   "outputs": [],
   "source": []
  }
 ],
 "metadata": {
  "kernelspec": {
   "display_name": "pytest3",
   "language": "python",
   "name": "pytest3"
  },
  "language_info": {
   "codemirror_mode": {
    "name": "ipython",
    "version": 3
   },
   "file_extension": ".py",
   "mimetype": "text/x-python",
   "name": "python",
   "nbconvert_exporter": "python",
   "pygments_lexer": "ipython3",
   "version": "3.7.10"
  }
 },
 "nbformat": 4,
 "nbformat_minor": 2
}
